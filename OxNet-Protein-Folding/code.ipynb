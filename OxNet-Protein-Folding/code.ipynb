{
 "cells": [
  {
   "cell_type": "markdown",
   "metadata": {},
   "source": [
    "# Protein Folding\n",
    "\n",
    "Seperating the code from all the notes of the protein folding notebook.\n",
    "\n",
    "Imports"
   ]
  },
  {
   "cell_type": "code",
   "execution_count": 18,
   "metadata": {},
   "outputs": [],
   "source": [
    "from matplotlib import pyplot as plt  #import matplotlib\n",
    "import numpy                       #import numpy\n",
    "import math\n",
    "from IPython.display import display, Markdown\n",
    "from scipy.optimize import leastsq\n",
    "import pandas as pd"
   ]
  },
  {
   "cell_type": "markdown",
   "metadata": {},
   "source": [
    "Constants"
   ]
  },
  {
   "cell_type": "code",
   "execution_count": 19,
   "metadata": {},
   "outputs": [],
   "source": [
    "delta=3E-3        #The duration for which the gradients are applied: s\n",
    "Delta=0.1         #A delay in the experiment: s\n",
    "Gmax=6000         #This is the maximum gradient strength of the magnet: G m-1\n",
    "gamma= 2.67522E4  #The proton Gyromagnetic ratio:  rad s-1 G-1\n",
    "kb=1.381E-23      #Boltzmann's constant: Js-1 \n",
    "pi=np.pi          #3.14159...\n",
    "nu=1E-3           #the viscosity of water at 25oC\n",
    "T0=273.19         #The temperature in K of 0oC\n",
    "T=25              #the temperature where we ran these experiments (25oC): oC\n",
    "\n",
    "m1 = 22123        #Molecular weights of the 5 proteins\n",
    "m2 = 118250\n",
    "m3 = 14230\n",
    "m4 = 4500000\n",
    "m5 = 623220"
   ]
  },
  {
   "cell_type": "markdown",
   "metadata": {},
   "source": [
    "Read the file into a dataframe"
   ]
  },
  {
   "cell_type": "code",
   "execution_count": 20,
   "metadata": {},
   "outputs": [
    {
     "data": {
      "text/html": [
       "<div>\n",
       "<style scoped>\n",
       "    .dataframe tbody tr th:only-of-type {\n",
       "        vertical-align: middle;\n",
       "    }\n",
       "\n",
       "    .dataframe tbody tr th {\n",
       "        vertical-align: top;\n",
       "    }\n",
       "\n",
       "    .dataframe thead th {\n",
       "        text-align: right;\n",
       "    }\n",
       "</style>\n",
       "<table border=\"1\" class=\"dataframe\">\n",
       "  <thead>\n",
       "    <tr style=\"text-align: right;\">\n",
       "      <th></th>\n",
       "      <th>G</th>\n",
       "      <th>I</th>\n",
       "    </tr>\n",
       "  </thead>\n",
       "  <tbody>\n",
       "    <tr>\n",
       "      <th>0</th>\n",
       "      <td>0.000000</td>\n",
       "      <td>1.001320e+06</td>\n",
       "    </tr>\n",
       "    <tr>\n",
       "      <th>1</th>\n",
       "      <td>0.052632</td>\n",
       "      <td>9.818368e+05</td>\n",
       "    </tr>\n",
       "    <tr>\n",
       "      <th>2</th>\n",
       "      <td>0.105263</td>\n",
       "      <td>9.664202e+05</td>\n",
       "    </tr>\n",
       "    <tr>\n",
       "      <th>3</th>\n",
       "      <td>0.157895</td>\n",
       "      <td>9.595538e+05</td>\n",
       "    </tr>\n",
       "    <tr>\n",
       "      <th>4</th>\n",
       "      <td>0.210526</td>\n",
       "      <td>9.334380e+05</td>\n",
       "    </tr>\n",
       "    <tr>\n",
       "      <th>5</th>\n",
       "      <td>0.263158</td>\n",
       "      <td>9.038141e+05</td>\n",
       "    </tr>\n",
       "    <tr>\n",
       "      <th>6</th>\n",
       "      <td>0.315789</td>\n",
       "      <td>8.761196e+05</td>\n",
       "    </tr>\n",
       "    <tr>\n",
       "      <th>7</th>\n",
       "      <td>0.368421</td>\n",
       "      <td>8.320696e+05</td>\n",
       "    </tr>\n",
       "    <tr>\n",
       "      <th>8</th>\n",
       "      <td>0.421053</td>\n",
       "      <td>8.002542e+05</td>\n",
       "    </tr>\n",
       "    <tr>\n",
       "      <th>9</th>\n",
       "      <td>0.473684</td>\n",
       "      <td>7.733541e+05</td>\n",
       "    </tr>\n",
       "    <tr>\n",
       "      <th>10</th>\n",
       "      <td>0.526316</td>\n",
       "      <td>7.222002e+05</td>\n",
       "    </tr>\n",
       "    <tr>\n",
       "      <th>11</th>\n",
       "      <td>0.578947</td>\n",
       "      <td>6.679803e+05</td>\n",
       "    </tr>\n",
       "    <tr>\n",
       "      <th>12</th>\n",
       "      <td>0.631579</td>\n",
       "      <td>6.108767e+05</td>\n",
       "    </tr>\n",
       "    <tr>\n",
       "      <th>13</th>\n",
       "      <td>0.684211</td>\n",
       "      <td>5.706381e+05</td>\n",
       "    </tr>\n",
       "    <tr>\n",
       "      <th>14</th>\n",
       "      <td>0.736842</td>\n",
       "      <td>5.272276e+05</td>\n",
       "    </tr>\n",
       "    <tr>\n",
       "      <th>15</th>\n",
       "      <td>0.789474</td>\n",
       "      <td>4.821136e+05</td>\n",
       "    </tr>\n",
       "    <tr>\n",
       "      <th>16</th>\n",
       "      <td>0.842105</td>\n",
       "      <td>4.368585e+05</td>\n",
       "    </tr>\n",
       "    <tr>\n",
       "      <th>17</th>\n",
       "      <td>0.894737</td>\n",
       "      <td>3.733767e+05</td>\n",
       "    </tr>\n",
       "    <tr>\n",
       "      <th>18</th>\n",
       "      <td>0.947368</td>\n",
       "      <td>3.485702e+05</td>\n",
       "    </tr>\n",
       "    <tr>\n",
       "      <th>19</th>\n",
       "      <td>1.000000</td>\n",
       "      <td>2.912861e+05</td>\n",
       "    </tr>\n",
       "  </tbody>\n",
       "</table>\n",
       "</div>"
      ],
      "text/plain": [
       "           G             I\n",
       "0   0.000000  1.001320e+06\n",
       "1   0.052632  9.818368e+05\n",
       "2   0.105263  9.664202e+05\n",
       "3   0.157895  9.595538e+05\n",
       "4   0.210526  9.334380e+05\n",
       "5   0.263158  9.038141e+05\n",
       "6   0.315789  8.761196e+05\n",
       "7   0.368421  8.320696e+05\n",
       "8   0.421053  8.002542e+05\n",
       "9   0.473684  7.733541e+05\n",
       "10  0.526316  7.222002e+05\n",
       "11  0.578947  6.679803e+05\n",
       "12  0.631579  6.108767e+05\n",
       "13  0.684211  5.706381e+05\n",
       "14  0.736842  5.272276e+05\n",
       "15  0.789474  4.821136e+05\n",
       "16  0.842105  4.368585e+05\n",
       "17  0.894737  3.733767e+05\n",
       "18  0.947368  3.485702e+05\n",
       "19  1.000000  2.912861e+05"
      ]
     },
     "execution_count": 20,
     "metadata": {},
     "output_type": "execute_result"
    }
   ],
   "source": [
    "protein1 = pd.read_csv('protein1.out',header=None,names=['G','I'],delim_whitespace=True)\n",
    "protein1"
   ]
  },
  {
   "cell_type": "markdown",
   "metadata": {},
   "source": [
    "Calculate $k$ values using the equation $k=\\gamma^2\\delta^2 G^2 \\left(\\Delta - \\frac{\\delta}{3}\\right) $"
   ]
  },
  {
   "cell_type": "code",
   "execution_count": 21,
   "metadata": {},
   "outputs": [],
   "source": [
    "protein1['k'] = (protein1['G']*delta*gamma)**2.*(Delta-delta/3)"
   ]
  },
  {
   "cell_type": "code",
   "execution_count": 22,
   "metadata": {},
   "outputs": [],
   "source": [
    "# Combines all of the CalcModel and chifunc functions\n",
    "def chifunc(x,b):\n",
    "    return (x[0]*np.exp(-b[0]*x[1])) - b[1]\n",
    "\n",
    "def CalcModel(k,I0,DT):   \n",
    "    return I0*np.exp(-k*DT)\n",
    "\n",
    "def FitModel(I0guess,DTguess,k,I,verbose=False): #function to fit model (DT,I0 pars) to data (k,I)\n",
    "#    Use leastsquares to fit the model to the data and find associated error values\n",
    "    xinit=I0guess,DTguess\n",
    "    pfit,pcov,infodict,errmsg,success=leastsq(chifunc,xinit,args=[k,I,],full_output=1) # the line that does the magic!\n",
    "\n",
    "    if (len(I) > len(xinit)) and pcov is not None:\n",
    "        s_sq = (chifunc(pfit,[k,I,])**2).sum()/(len(I)-len(xinit))\n",
    "        pcov = pcov * s_sq\n",
    "    else:\n",
    "        pcov = np.inf\n",
    "\n",
    "    error = [] \n",
    "    for i in range(len(pfit)):\n",
    "        try:\n",
    "          error.append(np.absolute(pcov[i][i])**0.5)\n",
    "        except:\n",
    "          error.append( 0.00 )\n",
    "    perr = np.array(error) \n",
    "    \n",
    "    if(verbose):\n",
    "        print(\"These are the fitted parameters:\")\n",
    "        print(\"I0=\",pfit[0],\"+/-\",perr[0])\n",
    "        print(\"DT=\",pfit[1],\"+/-\",perr[1])\n",
    "        display(Markdown(rf'  Fitted D:   %.2e $\\pm$ %.2e 'r'cm$^2$s$^{-1}$' % (pfit[0],pfit[1])))    \n",
    "    return pfit[0],pfit[1],perr[0],perr[1]\n",
    "\n",
    "def CalcK(G,gamma,delta,Delta): #calculate 'k' values from an array of G values using the constants\n",
    "    return (G*delta*gamma)**2.*(Delta-delta/3.)\n",
    "\n",
    "def Readin(infile): #function to read in a data file\n",
    "    G=[]  #initialise a list to store G values\n",
    "    I=[]  #initialise a lsit to store I values\n",
    "    inny=open(infile) #open a 'stream' an interface to the file.\n",
    "    for line in inny.readlines():  #loop over all lines in the file\n",
    "        #print(line)      #uncomment this to see what it does\n",
    "        test=line.split()  #this line splits the line into fields separated by 'whitespace'\n",
    "        #print(test)      #uncomment this to see what it does\n",
    "        if(len(test)>0): #make sure that the line has some information in!\n",
    "            G.append(float(test[0])) #add the G value to the list\n",
    "            I.append(float(test[1])) #add the I value to the list\n",
    "    G=np.array(G)  #turn into a 'numpy' array\n",
    "    I=np.array(I)  #turn into a 'numpy' array\n",
    "    return G,I  "
   ]
  },
  {
   "cell_type": "markdown",
   "metadata": {},
   "source": [
    "Actually performing the analysis on one of the proteins,\n",
    "\n",
    "matches the given results from the original notebook"
   ]
  },
  {
   "cell_type": "code",
   "execution_count": 46,
   "metadata": {},
   "outputs": [
    {
     "name": "stdout",
     "output_type": "stream",
     "text": [
      "These are the fitted parameters:\n",
      "I0= 987306.6441529379 +/- 3210.370076267484\n",
      "DT= 0.0018408807332644702 +/- 1.8364951134469547e-05\n"
     ]
    },
    {
     "data": {
      "text/markdown": [
       "  Fitted D:   9.87e+05 $\\pm$ 1.84e-03 cm$^2$s$^{-1}$"
      ],
      "text/plain": [
       "<IPython.core.display.Markdown object>"
      ]
     },
     "metadata": {},
     "output_type": "display_data"
    },
    {
     "data": {
      "text/plain": [
       "(987306.6441529379,\n",
       " 0.0018408807332644702,\n",
       " 3210.370076267484,\n",
       " 1.8364951134469547e-05)"
      ]
     },
     "execution_count": 46,
     "metadata": {},
     "output_type": "execute_result"
    }
   ],
   "source": [
    "IO_guess = 2E6\n",
    "DT_guess = 1E-8\n",
    "\n",
    "fitted_model = FitModel(IO_guess, DT_guess, protein1['k'].to_numpy(), protein1['I'].to_numpy(), verbose=True)\n",
    "fitted_model"
   ]
  },
  {
   "cell_type": "markdown",
   "metadata": {},
   "source": [
    "Plotting the data"
   ]
  },
  {
   "cell_type": "code",
   "execution_count": 24,
   "metadata": {},
   "outputs": [],
   "source": [
    "file = 'protein1.out'\n",
    "\n",
    "#DT will be in units of m2 s-1\n",
    "def SimData(DTsim): #give this function a list of different diffusion coefficients \n",
    "    \"\"\"Returns a plot of different DT values on the same graph\"\"\"\n",
    "    fig=plt.figure()                  #setup the plot\n",
    "    ax=fig.add_axes([0,0,1,1])        #setup the plot\n",
    "    G=np.linspace(0,1,20)   #calculate an arbitrary range of Gradients from 0 to 100% of maximum (0-1)\n",
    "    I0=1E6                             #arbitrary I0 value           \n",
    "    ax.set_ylim(0,1.05)               #set yrange from 0, to just above the max number (1.0)\n",
    "    ax.set_xlabel(\"G/Gmax\")           #set the Xlabel\n",
    "    ax.set_ylabel(\"I/I0\")             #set the Ylabel\n",
    "\n",
    "    for DT in DTsim:  #loop over all the test DT values in the list sent to function (DTsim)\n",
    "        k=CalcK(G*Gmax,gamma,delta,Delta)  #calc the 'k' values\n",
    "        I=CalcModel(k,I0,DT)               #simulate the model\n",
    "        I0fit,DTfit,I0err,DTerr=FitModel(2E6,1E-12,k,I) #fit the simulated model to get a nice line\n",
    "        Ifit=CalcModel(k,I0fit,DTfit)      #back-calculate the simulated data for plotting\n",
    "\n",
    "        label='%.2e m^2s^{-1}'% DT\n",
    "        ax.scatter(G,I/I0)   #make the plot of data (points)\n",
    "        ax.plot(G,Ifit/I0fit,label=label)   #make the plot of data (lines)\n",
    "    ax.legend(loc='lower left')\n",
    "        \n",
    "def SetFig():\n",
    "    \"\"\"Creates blank plot for data to be added to later\"\"\"\n",
    "    fig=plt.figure()                  #setup the plot\n",
    "    ax=fig.add_axes([0,0,1,1])        #setup the plot\n",
    "    ax.set_ylim(0,1.05)               #set yrange from 0, to just above the max number (1.0)\n",
    "    ax.set_xlabel(\"G/Gmax\")           #set the Xlabel\n",
    "    ax.set_ylabel(\"I/I0\")             #set the Ylabel\n",
    "    return fig,ax    \n",
    "\n",
    "        \n",
    "def FitFile(file,verbose=False,ax=None): #give this function a list of different diffusion coefficients \n",
    "    \"\"\"For a file of data, retrun the fitted model and plot the results\"\"\"\n",
    "    G,I=Readin(file)       #read in text file using our own code\n",
    "    \n",
    "    if(verbose): #if verbose is set to true, then initialise a stand-alone figure\n",
    "         fig,ax=SetFig() #otherwise code assumes SetFig has been called already to get a multi-plot\n",
    "\n",
    "    k=CalcK(G*Gmax,gamma,delta,Delta)  #calc the 'k' values\n",
    "    I0fit,DTfit,I0err,DTerr=FitModel(2E6,1E-8,k,I,verbose=verbose) #fit the simulated model to get a nice line\n",
    "    Ifit=CalcModel(k,I0fit,DTfit)      #back-calculate the simulated data for plotting\n",
    "    I0=1E6\n",
    " \n",
    "    ax.scatter(G,I/I0)   #make the plot of data (points)\n",
    "    ax.plot(G,Ifit/I0fit,label=file)   #make the plot of data (lines)\n",
    "\n",
    "    if(verbose): #show legend if just making a single plot\n",
    "        ax.legend()\n",
    "\n",
    "    return DTfit,DTerr  #return fitted diffusion coefficient\n",
    "\n",
    "def Readin(infile): #function to read in a data file\n",
    "    G=[]  #initialise a list to store G values\n",
    "    I=[]  #initialise a lsit to store I values\n",
    "    inny=open(infile) #open a 'stream' an interface to the file.\n",
    "    for line in inny.readlines():  #loop over all lines in the file\n",
    "        #print(line)      #uncomment this to see what it does\n",
    "        test=line.split()  #this line splits the line into fields separated by 'whitespace'\n",
    "        #print(test)      #uncomment this to see what it does\n",
    "        if(len(test)>0): #make sure that the line has some information in!\n",
    "            G.append(float(test[0])) #add the G value to the list\n",
    "            I.append(float(test[1])) #add the I value to the list\n",
    "    G=numpy.array(G)  #turn into a 'numpy' array\n",
    "    I=numpy.array(I)  #turn into a 'numpy' array\n",
    "    return G,I  "
   ]
  },
  {
   "cell_type": "code",
   "execution_count": 25,
   "metadata": {},
   "outputs": [],
   "source": [
    "def ExpectedD(Mw,DT,DTerr,verbose=False): #print diffusion coefficients to the screen for folded and unfolded for the given molecular weight.\n",
    "    \"\"\"Given the MW of a protein, calculate the folded and unfolded DT values,\n",
    "    and use these to calculate the constant n amd its associated error\"\"\"\n",
    "    from IPython.display import display, Markdown\n",
    "    \n",
    "    #The two results from Wilkins et al.\n",
    "    #Rh unfolded =2.21*(Mw/110.)** 0.57 #in Angstroms\n",
    "    #Rh folded=4.75*(Mw/110.)** 0.29    #in Angstroms\n",
    "    #D=k T/(6 pi nu R)  #Stokes Einstein equation #units of m^2s-1 for D\n",
    "    #Average molecular weight of an amino acid = 110 g mol-1\n",
    "\n",
    "    kfol=kb* (T0+T)* 110**0.29 /(6* pi* nu* 4.75 *1E-10)  #conversion factors from Einstein-Stokes\n",
    "    kunf=kb* (T0+T)* 110**0.57 /(6* pi* nu* 2.21 *1E-10)   #conversion factors from Einstein-Stokes\n",
    "    Dfol=kfol*(Mw)**(-0.29)  \n",
    "    Dunf=kunf*(Mw)**(-0.57)\n",
    "    #print(kfol,kunf)\n",
    "    fac=(DT-Dunf)/(Dfol-Dunf)  #back calulating the unfolded fraction.\n",
    "    facErr=(DTerr**2.*(1./(Dfol-Dunf))**2.)**0.5 \n",
    "    if(verbose):\n",
    "        display(Markdown(rf'  Expected D (unfolded): %.2e 'r'm$^2$s$^{-1}$' % (Dunf)))\n",
    "        display(Markdown(rf'  Expected D (folded):   %.2e 'r'm$^2$s$^{-1}$' % (Dfol)))    \n",
    "        display(Markdown(rf'  Folded factor $\\eta$:   %.4f $pm %.4f' % (fac,facErr )))  #propagating the error, so fractional error in DT->fraction error in fac  \n",
    "    return fac,facErr\n"
   ]
  },
  {
   "cell_type": "code",
   "execution_count": null,
   "metadata": {},
   "outputs": [],
   "source": [
    "protein5 = pd.read_csv('protein5.out',header=None,names=['G','I'],delim_whitespace=True)\n",
    "protein5['k'] = (protein5['G']*delta*gamma)**2.*(Delta-delta/3)\n",
    "fitted_model5 = FitModel(2E6, 1E-8, protein5['k'].to_numpy(), protein5['I'].to_numpy(), verbose=True)\n",
    "b = ExpectedD(m5, fitted_model5[1], fitted_model5[3], True)"
   ]
  },
  {
   "cell_type": "markdown",
   "metadata": {},
   "source": [
    "# Task 1 and Task 2"
   ]
  },
  {
   "cell_type": "code",
   "execution_count": 30,
   "metadata": {},
   "outputs": [],
   "source": [
    "weights = [m1, m2, m3, m4, m5]"
   ]
  },
  {
   "cell_type": "code",
   "execution_count": 45,
   "metadata": {
    "scrolled": false
   },
   "outputs": [
    {
     "name": "stdout",
     "output_type": "stream",
     "text": [
      "Protein 1.............................................\n",
      "\n",
      "These are the fitted parameters:\n",
      "I0= 987306.6441460623 +/- 3210.3700715296964\n",
      "DT= 5.113557592196961e-11 +/- 5.101375280146457e-13\n"
     ]
    },
    {
     "data": {
      "text/markdown": [
       "  Fitted D:   9.87e+05 $\\pm$ 5.11e-11 cm$^2$s$^{-1}$"
      ],
      "text/plain": [
       "<IPython.core.display.Markdown object>"
      ]
     },
     "metadata": {},
     "output_type": "display_data"
    },
    {
     "data": {
      "text/markdown": [
       "  Expected D (unfolded): 4.81e-11 m$^2$s$^{-1}$"
      ],
      "text/plain": [
       "<IPython.core.display.Markdown object>"
      ]
     },
     "metadata": {},
     "output_type": "display_data"
    },
    {
     "data": {
      "text/markdown": [
       "  Expected D (folded):   9.88e-11 m$^2$s$^{-1}$"
      ],
      "text/plain": [
       "<IPython.core.display.Markdown object>"
      ]
     },
     "metadata": {},
     "output_type": "display_data"
    },
    {
     "data": {
      "text/markdown": [
       "  Folded factor $\\eta$:   0.0601 $pm 0.0101"
      ],
      "text/plain": [
       "<IPython.core.display.Markdown object>"
      ]
     },
     "metadata": {},
     "output_type": "display_data"
    },
    {
     "name": "stdout",
     "output_type": "stream",
     "text": [
      "Protein 1 is not folded \n",
      "\n",
      "\n",
      "Protein 2.............................................\n",
      "\n",
      "These are the fitted parameters:\n",
      "I0= 1005362.6137123436 +/- 3252.4818506533493\n",
      "DT= 5.849456407208256e-11 +/- 5.466198713462525e-13\n"
     ]
    },
    {
     "data": {
      "text/markdown": [
       "  Fitted D:   1.01e+06 $\\pm$ 5.85e-11 cm$^2$s$^{-1}$"
      ],
      "text/plain": [
       "<IPython.core.display.Markdown object>"
      ]
     },
     "metadata": {},
     "output_type": "display_data"
    },
    {
     "data": {
      "text/markdown": [
       "  Expected D (unfolded): 1.85e-11 m$^2$s$^{-1}$"
      ],
      "text/plain": [
       "<IPython.core.display.Markdown object>"
      ]
     },
     "metadata": {},
     "output_type": "display_data"
    },
    {
     "data": {
      "text/markdown": [
       "  Expected D (folded):   6.08e-11 m$^2$s$^{-1}$"
      ],
      "text/plain": [
       "<IPython.core.display.Markdown object>"
      ]
     },
     "metadata": {},
     "output_type": "display_data"
    },
    {
     "data": {
      "text/markdown": [
       "  Folded factor $\\eta$:   0.9465 $pm 0.0129"
      ],
      "text/plain": [
       "<IPython.core.display.Markdown object>"
      ]
     },
     "metadata": {},
     "output_type": "display_data"
    },
    {
     "name": "stdout",
     "output_type": "stream",
     "text": [
      "Protein 2 is folded (mostly)\n",
      "\n",
      "\n",
      "Protein 3.............................................\n",
      "\n",
      "These are the fitted parameters:\n",
      "I0= 1002337.3011250461 +/- 3059.1788782724325\n",
      "DT= 6.255746598463525e-11 +/- 5.369475111938806e-13\n"
     ]
    },
    {
     "data": {
      "text/markdown": [
       "  Fitted D:   1.00e+06 $\\pm$ 6.26e-11 cm$^2$s$^{-1}$"
      ],
      "text/plain": [
       "<IPython.core.display.Markdown object>"
      ]
     },
     "metadata": {},
     "output_type": "display_data"
    },
    {
     "data": {
      "text/markdown": [
       "  Expected D (unfolded): 6.18e-11 m$^2$s$^{-1}$"
      ],
      "text/plain": [
       "<IPython.core.display.Markdown object>"
      ]
     },
     "metadata": {},
     "output_type": "display_data"
    },
    {
     "data": {
      "text/markdown": [
       "  Expected D (folded):   1.12e-10 m$^2$s$^{-1}$"
      ],
      "text/plain": [
       "<IPython.core.display.Markdown object>"
      ]
     },
     "metadata": {},
     "output_type": "display_data"
    },
    {
     "data": {
      "text/markdown": [
       "  Folded factor $\\eta$:   0.0143 $pm 0.0106"
      ],
      "text/plain": [
       "<IPython.core.display.Markdown object>"
      ]
     },
     "metadata": {},
     "output_type": "display_data"
    },
    {
     "name": "stdout",
     "output_type": "stream",
     "text": [
      "Protein 3 is not folded \n",
      "\n",
      "\n",
      "Protein 4.............................................\n",
      "\n",
      "These are the fitted parameters:\n",
      "I0= 1002136.2952060581 +/- 4514.265661991407\n",
      "DT= 2.1171987163449926e-11 +/- 5.199107624616374e-13\n"
     ]
    },
    {
     "data": {
      "text/markdown": [
       "  Fitted D:   1.00e+06 $\\pm$ 2.12e-11 cm$^2$s$^{-1}$"
      ],
      "text/plain": [
       "<IPython.core.display.Markdown object>"
      ]
     },
     "metadata": {},
     "output_type": "display_data"
    },
    {
     "data": {
      "text/markdown": [
       "  Expected D (unfolded): 2.32e-12 m$^2$s$^{-1}$"
      ],
      "text/plain": [
       "<IPython.core.display.Markdown object>"
      ]
     },
     "metadata": {},
     "output_type": "display_data"
    },
    {
     "data": {
      "text/markdown": [
       "  Expected D (folded):   2.11e-11 m$^2$s$^{-1}$"
      ],
      "text/plain": [
       "<IPython.core.display.Markdown object>"
      ]
     },
     "metadata": {},
     "output_type": "display_data"
    },
    {
     "data": {
      "text/markdown": [
       "  Folded factor $\\eta$:   1.0013 $pm 0.0276"
      ],
      "text/plain": [
       "<IPython.core.display.Markdown object>"
      ]
     },
     "metadata": {},
     "output_type": "display_data"
    },
    {
     "name": "stdout",
     "output_type": "stream",
     "text": [
      "Protein 4 is folded (mostly)\n",
      "\n",
      "\n",
      "Protein 5.............................................\n",
      "\n",
      "These are the fitted parameters:\n",
      "I0= 991860.6474968756 +/- 3839.9085709648584\n",
      "DT= 3.0607544016912395e-11 +/- 4.920679926172242e-13\n"
     ]
    },
    {
     "data": {
      "text/markdown": [
       "  Fitted D:   9.92e+05 $\\pm$ 3.06e-11 cm$^2$s$^{-1}$"
      ],
      "text/plain": [
       "<IPython.core.display.Markdown object>"
      ]
     },
     "metadata": {},
     "output_type": "display_data"
    },
    {
     "data": {
      "text/markdown": [
       "  Expected D (unfolded): 7.17e-12 m$^2$s$^{-1}$"
      ],
      "text/plain": [
       "<IPython.core.display.Markdown object>"
      ]
     },
     "metadata": {},
     "output_type": "display_data"
    },
    {
     "data": {
      "text/markdown": [
       "  Expected D (folded):   3.75e-11 m$^2$s$^{-1}$"
      ],
      "text/plain": [
       "<IPython.core.display.Markdown object>"
      ]
     },
     "metadata": {},
     "output_type": "display_data"
    },
    {
     "data": {
      "text/markdown": [
       "  Folded factor $\\eta$:   0.7723 $pm 0.0162"
      ],
      "text/plain": [
       "<IPython.core.display.Markdown object>"
      ]
     },
     "metadata": {},
     "output_type": "display_data"
    },
    {
     "name": "stdout",
     "output_type": "stream",
     "text": [
      "Protein 5 is folded (mostly)\n",
      "\n",
      "\n"
     ]
    },
    {
     "data": {
      "image/png": "[encoded data removed]",
      "text/plain": [
       "<Figure size 432x288 with 1 Axes>"
      ]
     },
     "metadata": {
      "needs_background": "light"
     },
     "output_type": "display_data"
    },
    {
     "data": {
      "image/png": "[encoded data removed]",
      "text/plain": [
       "<Figure size 432x288 with 1 Axes>"
      ]
     },
     "metadata": {
      "needs_background": "light"
     },
     "output_type": "display_data"
    },
    {
     "data": {
      "image/png": "[encoded data removed]",
      "text/plain": [
       "<Figure size 432x288 with 1 Axes>"
      ]
     },
     "metadata": {
      "needs_background": "light"
     },
     "output_type": "display_data"
    },
    {
     "data": {
      "image/png": "[encoded data removed]",
      "text/plain": [
       "<Figure size 432x288 with 1 Axes>"
      ]
     },
     "metadata": {
      "needs_background": "light"
     },
     "output_type": "display_data"
    },
    {
     "data": {
      "image/png": "[encoded data removed]",
      "text/plain": [
       "<Figure size 432x288 with 1 Axes>"
      ]
     },
     "metadata": {
      "needs_background": "light"
     },
     "output_type": "display_data"
    }
   ],
   "source": [
    "for i, weight in enumerate(weights):\n",
    "    print(f\"Protein {i+1}.............................................\\n\")\n",
    "    file = f\"protein{i+1}.out\"\n",
    "    DT,DTerr=FitFile(file,verbose=True)\n",
    "    fac,facErr=ExpectedD(weight,DT,DTerr,verbose=True)\n",
    "    if (1 - fac) < (fac): \n",
    "        print(f\"Protein {i+1} is folded (mostly)\\n\\n\")\n",
    "    else:\n",
    "        print(f\"Protein {i+1} is not folded \\n\\n\")"
   ]
  },
  {
   "cell_type": "markdown",
   "metadata": {},
   "source": [
    "# Task 3 \n",
    "\n",
    "Research $\\alpha$-synuclein (protein 3) and a ribosome assembly (protein 4) and determine if they're folded or not."
   ]
  },
  {
   "cell_type": "code",
   "execution_count": 27,
   "metadata": {
    "scrolled": true
   },
   "outputs": [
    {
     "name": "stdout",
     "output_type": "stream",
     "text": [
      "These are the fitted parameters:\n",
      "I0= 1002337.3011250461 +/- 3059.1788782724325\n",
      "DT= 6.255746598463525e-11 +/- 5.369475111938806e-13\n"
     ]
    },
    {
     "data": {
      "text/markdown": [
       "  Fitted D:   1.00e+06 $\\pm$ 6.26e-11 cm$^2$s$^{-1}$"
      ],
      "text/plain": [
       "<IPython.core.display.Markdown object>"
      ]
     },
     "metadata": {},
     "output_type": "display_data"
    },
    {
     "data": {
      "text/markdown": [
       "  Expected D (unfolded): 6.18e-11 m$^2$s$^{-1}$"
      ],
      "text/plain": [
       "<IPython.core.display.Markdown object>"
      ]
     },
     "metadata": {},
     "output_type": "display_data"
    },
    {
     "data": {
      "text/markdown": [
       "  Expected D (folded):   1.12e-10 m$^2$s$^{-1}$"
      ],
      "text/plain": [
       "<IPython.core.display.Markdown object>"
      ]
     },
     "metadata": {},
     "output_type": "display_data"
    },
    {
     "data": {
      "text/markdown": [
       "  Folded factor $\\eta$:   0.0143 $pm 0.0106"
      ],
      "text/plain": [
       "<IPython.core.display.Markdown object>"
      ]
     },
     "metadata": {},
     "output_type": "display_data"
    },
    {
     "data": {
      "image/png": "[encoded data removed]",
      "text/plain": [
       "<Figure size 432x288 with 1 Axes>"
      ]
     },
     "metadata": {
      "needs_background": "light"
     },
     "output_type": "display_data"
    }
   ],
   "source": [
    "# protein 3 (alpha synuclein)\n",
    "\n",
    "file = 'protein3.out'\n",
    "DT,DTerr=FitFile(file,verbose=True)\n",
    "fac,facErr=ExpectedD(m3,DT,DTerr,verbose=True)"
   ]
  },
  {
   "cell_type": "markdown",
   "metadata": {},
   "source": [
    "#### $\\alpha$-Synuclein\n",
    "\n",
    "$\\alpha$-Synuclein is a protein that's linked genetically and neuropathically to Parkinsons disease, abundant abnormal accumulation of $\\alpha$-Synuclein characterises neuropathological specimens not only from patients with Parkinson's Disease but also from other neurodegenerative conditions  (2012 Stefanis L.) The typiucal function of $\\alpha$-Synuclein remains poorly understood, however it has also been found in 'senile plaques' of people with alzheimers. It has been found to localize in the nerve terminal and has an effect on synaptic transmission. (2013 Jacob Bendor , Todd Logan and Robert H. Edwards). When a protein is folded it becomes biologically and chemically active however the $\\alpha$-Synuclein the data is collected from in the file is not folded. The folded factor $\\eta$ of 0.0143 shows that the protein is not folded. As it is not folded it is still just a chain of polypeptides and does not actually do react or do anything.\n",
    "\n",
    "\n",
    "##### Sources\n",
    "The Function of $\\alpha$-Synuclein - 2013 - Jacob Bendor , Todd Logan and Robert H. Edwards - National Library of Medicine - [Link](https://www.ncbi.nlm.nih.gov/pmc/articles/PMC3866954/)\n",
    "\n",
    "$\\alpha$-Synuclein in Parkinson's Disease - 2012 - Leonidas Stefanis - National Library of Medicine - [Link](https://www.ncbi.nlm.nih.gov/pmc/articles/PMC3281589/)"
   ]
  },
  {
   "cell_type": "code",
   "execution_count": 28,
   "metadata": {},
   "outputs": [
    {
     "name": "stdout",
     "output_type": "stream",
     "text": [
      "These are the fitted parameters:\n",
      "I0= 1002136.2952060581 +/- 4514.265661991407\n",
      "DT= 2.1171987163449926e-11 +/- 5.199107624616374e-13\n"
     ]
    },
    {
     "data": {
      "text/markdown": [
       "  Fitted D:   1.00e+06 $\\pm$ 2.12e-11 cm$^2$s$^{-1}$"
      ],
      "text/plain": [
       "<IPython.core.display.Markdown object>"
      ]
     },
     "metadata": {},
     "output_type": "display_data"
    },
    {
     "data": {
      "text/markdown": [
       "  Expected D (unfolded): 2.32e-12 m$^2$s$^{-1}$"
      ],
      "text/plain": [
       "<IPython.core.display.Markdown object>"
      ]
     },
     "metadata": {},
     "output_type": "display_data"
    },
    {
     "data": {
      "text/markdown": [
       "  Expected D (folded):   2.11e-11 m$^2$s$^{-1}$"
      ],
      "text/plain": [
       "<IPython.core.display.Markdown object>"
      ]
     },
     "metadata": {},
     "output_type": "display_data"
    },
    {
     "data": {
      "text/markdown": [
       "  Folded factor $\\eta$:   1.0013 $pm 0.0276"
      ],
      "text/plain": [
       "<IPython.core.display.Markdown object>"
      ]
     },
     "metadata": {},
     "output_type": "display_data"
    },
    {
     "data": {
      "image/png": "[encoded data removed]",
      "text/plain": [
       "<Figure size 432x288 with 1 Axes>"
      ]
     },
     "metadata": {
      "needs_background": "light"
     },
     "output_type": "display_data"
    }
   ],
   "source": [
    "# protein 4 (ribosome assembly)\n",
    "\n",
    "file = 'protein4.out'\n",
    "DT,DTerr=FitFile(file,verbose=True)\n",
    "fac,facErr=ExpectedD(m4,DT,DTerr,verbose=True)"
   ]
  },
  {
   "cell_type": "markdown",
   "metadata": {},
   "source": [
    "#### Ribosome Assembly\n",
    "A ribosome is the site of protein synthesis from amino acids in a cell. Ribosomes exist in both eukaryotic and prokaryotic cells. The ribosome reads the sequence of mRNA and decodes it into the required gentic information and then uses that to form a series of amino acids. From the folded factor $\\eta$ being effectively 1 we can say that this ribosome assembly is folded and therefore biologically and chemically functional. This means that it would be producing/synthesising new proteins"
   ]
  }
 ],
 "metadata": {
  "interpreter": {
   "hash": "c6a5a42a8ef9e810f073542fc4d5ba4cb2eaa5a0565785c5429fa44be9f959e3"
  },
  "kernelspec": {
   "display_name": "Python 3 (ipykernel)",
   "language": "python",
   "name": "python3"
  },
  "language_info": {
   "codemirror_mode": {
    "name": "ipython",
    "version": 3
   },
   "file_extension": ".py",
   "mimetype": "text/x-python",
   "name": "python",
   "nbconvert_exporter": "python",
   "pygments_lexer": "ipython3",
   "version": "3.9.7"
  }
 },
 "nbformat": 4,
 "nbformat_minor": 2
}
