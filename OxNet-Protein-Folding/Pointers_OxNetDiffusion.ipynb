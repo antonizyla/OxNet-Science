{
 "cells": [
  {
   "cell_type": "markdown",
   "id": "88fdd5f1-00bd-4021-8129-53d873a573cd",
   "metadata": {
    "tags": []
   },
   "source": [
    "# **Pointers for the Original OxNetDiffusion Notebook**\n",
    "\n",
    "This notebook contains the same information as the original notebook. However, the ordering of the content has been slightly altered. Additionally, it contains some more information regarding the functions used and breaks down the steps of the fundamental functions. \n"
   ]
  },
  {
   "cell_type": "code",
   "execution_count": null,
   "id": "hollow-baking",
   "metadata": {},
   "outputs": [],
   "source": [
    "#Required modules for this project.\n",
    "#If you get an error on any of this, you need to look at your installation of python and jupyter. \n",
    "#You will need to google how you can install matplotlib, numpy and scipy. \n",
    "#If you run this cell and get an error, you need to fix this \n",
    "#before you can make any progress!\n",
    "\n",
    "from matplotlib import pyplot as plt  #import matplotlib\n",
    "import numpy                          #import numpy\n",
    "import math\n",
    "from IPython.display import display, Markdown\n",
    "from scipy.optimize import leastsq"
   ]
  },
  {
   "cell_type": "code",
   "execution_count": null,
   "id": "hawaiian-salmon",
   "metadata": {},
   "outputs": [],
   "source": [
    "#constants set for project (will not vary!)\n",
    "delta=3E-3        #The duration for which the gradients are applied: s\n",
    "Delta=0.1         #A delay in the experiment: s\n",
    "Gmax=6000         #This is the maximum gradient strength of the magnet: G m-1\n",
    "gamma= 2.67522E4  #The proton Gyromagnetic ratio:  rad s-1 G-1\n",
    "kb=1.381E-23      #Boltzmann's constant: Js-1 \n",
    "pi=numpy.pi       #3.14159...\n",
    "nu=1E-3           #the viscosity of water at 25oC\n",
    "T0=273.19         #The temperature in K of 0oC\n",
    "T=25              #the temperature where we ran these experiments (25oC): oC"
   ]
  },
  {
   "cell_type": "markdown",
   "id": "ff42508f-202d-43f7-95ac-768a4c6a620b",
   "metadata": {
    "tags": []
   },
   "source": [
    "# Aim: Determine $D_T$ and calculate the constant $\\eta$ to assess whether a protein is folded or unfolded. \n",
    "\n",
    "This will be achieved by using some experiemental data that conatins $I$ versus $G$ datapoints for a specific protein of a known mass $M_w$. By using python code that uses a 'least squares' algorithm to fit our model to the data, we will calculate the diffusion coefficients $D_T$ for each protein. Based of this value, we will figure out $\\eta$, which we will then interpret in terms of 'folded' or 'unfolded'. You will then research two specific proteins on this list and write a short paragraph explaining why it is likley that being folded or unfolded is important for these proteins inside the cell.\n",
    "\n",
    "I have python code here to do challenges 1 and 2. You can use the functions I provide, but you should 'play' with them and make sure you understand them. With not much work, you can turn these basic functions into code that can fit any model you can think of to any experimental data. So this is well worth your time! You understand this code, and you understand data analysis and model fitting in the physical sciences.\n",
    "\n",
    "You will need to run each of the python boxes in the worksheet so that the system 'knows' about the modules it needs, the we need constants and the various functions I have defined. "
   ]
  },
  {
   "cell_type": "markdown",
   "id": "4543599a-67df-4ded-8655-0b1825480bcc",
   "metadata": {
    "tags": []
   },
   "source": [
    "# Stejskal-Tanner equation\n",
    "Use these equations to find $D_T$ (diffusion coefficient).\n",
    "\n",
    "$I=I_0 \\exp(-k D_T)$\n",
    "\n",
    "$k=\\gamma^2\\delta^2 G^2 \\left(\\Delta - \\frac{\\delta}{3}\\right)$\n",
    "\n",
    "During the NMR experiment we measure signal $I$ for a range of values of $G$, where $\\delta$ and $\\Delta$ remain constant.\n",
    "\n",
    "Therefore, by plotting the signal $I$ as a function of $k$, we can use a program to determine $D_T$ by using the 'best fitting model'."
   ]
  },
  {
   "cell_type": "markdown",
   "id": "99b0c203-976d-49eb-8283-814b295f8ac5",
   "metadata": {
    "tags": []
   },
   "source": [
    "# Radius of Hydration Equations\n",
    "\n",
    "This equation tells us the approximate size of a dissolved protein in units of Angstroms $\\mathring A$, where 1 $\\mathring A$ is equal to 10$^{-10}$m\n",
    "\n",
    "$R_H= a N^b$, where $N$ is the number of residues in the protein and $a$ and $b$ are constants\n",
    "\n",
    "The value of the constants depend on if the protein is folded or unfolded.\n",
    "\n",
    "If $R_H^{\\mathrm{unfolded}}$ then $a = 2.21$  and $b = 0.57$\n",
    "\n",
    "If $R_H^{\\mathrm{folded}}$ then $a = 4.75$  and $b = 0.29$ \n",
    "\n",
    "\n",
    "For a **folded protein** we can expect $R_H\\propto N^{1/3}$ (0.29 is close to 0.33)\n"
   ]
  },
  {
   "cell_type": "markdown",
   "id": "573458f7-cb6d-4e27-8d03-9ad39673d119",
   "metadata": {
    "tags": []
   },
   "source": [
    "# Einstein-Stokes Equation\n",
    "\n",
    "This equation relates the radius of hydration, $R_H$, to the translational diffusion coefficient, $D_T$:\n",
    "\n",
    "$D_T = \\frac{k_B T}{6 \\pi \\nu R_H}$\n",
    "\n",
    "$k_B$ is the Boltzmann constant, $T$ is temperature, and $\\nu$ is the viscosity of the solution.\n"
   ]
  },
  {
   "cell_type": "markdown",
   "id": "e04338e3-4160-4d94-b7a6-415985e43dc6",
   "metadata": {
    "tags": []
   },
   "source": [
    "# Deriving $\\kappa$ for folded or unfolded proteins\n",
    "\n",
    "**Step 1:** substitute the Radius of Hydration into the Einstein-Stokes equation  \n",
    "\n",
    "$R_H= a N^b$ \n",
    "\n",
    "$D_T = \\frac{k_B T}{6 \\pi \\nu R_H}$\n",
    "\n",
    "$D_T = \\frac{k_B T}{6 \\pi \\nu a N^b }$\n",
    "\n",
    "we can say that $D_T\\propto 1/R_H$ as $ \\frac{k_B T}{6 \\pi \\nu }$, $a$ and $b$ can all assumed to be constant\n",
    "\n",
    "Therefore, if we measure $D_T$, we can in turn calculate the value of $R_H$ "
   ]
  },
  {
   "cell_type": "markdown",
   "id": "de0365b3-48b7-49b9-829c-bd08af378b4f",
   "metadata": {
    "tags": []
   },
   "source": [
    "**Step 2:** Convert the units of radius of hydration\n",
    "\n",
    "$D_T = \\frac{k_B T}{6 \\pi \\nu a N^b \\times 10^{-10}}$\n",
    "\n",
    "Here we used 10$^{-10}$ to convert the radius of hydration into units of metres, so that $D_T$ has units of m$^2$ s$^{-1}$ "
   ]
  },
  {
   "cell_type": "markdown",
   "id": "ab3fc9f6-5a66-4144-b7f8-a86578700be7",
   "metadata": {
    "tags": []
   },
   "source": [
    "**Step 3:** Convert number of residues in a protein $N$ into the protein's molecular weight $M_W$\n",
    "\n",
    "$D_T = \\frac{k_B T}{6 \\pi \\nu a \\left(\\frac{M_W}{110.} \\right)^b \\times 10^{-10}}$\n",
    "\n",
    "The 'average' molecular weight of an amino acid is 110 g mol$^{-1}$. This means that $M_W= 110 \\times N$"
   ]
  },
  {
   "cell_type": "markdown",
   "id": "06835e89-c5b4-42d3-a717-73e49b566c7e",
   "metadata": {
    "tags": []
   },
   "source": [
    "**Step 4:** Simplify our expression\n",
    "\n",
    "$D_T = \\kappa M_W^{-b}$\n",
    "\n",
    "where the complicated constant $\\kappa$ is everything else left over:\n",
    "\n",
    "$\\kappa= \\frac{k_B T }{6 \\pi \\nu a }110^b \\times 10^{10}$\n"
   ]
  },
  {
   "cell_type": "markdown",
   "id": "9689ff7b-2f80-4b1c-a93b-0c3e20871197",
   "metadata": {},
   "source": [
    "**Step 5:** Calculate $\\kappa$ for a folder or unfolded protein\n",
    "\n",
    "$\\kappa= \\frac{k_B T }{6 \\pi \\nu a }110^b \\times 10^{10}$\n",
    "\n",
    "Therefore, we can use this equation to caculate the constant $\\kappa$ for a folder or unfolded protein"
   ]
  },
  {
   "cell_type": "markdown",
   "id": "01e92f04-bb41-4710-a4fb-18182d79560d",
   "metadata": {},
   "source": [
    "**Task 1:** Calculate the value of $\\kappa$ for an unfolded, and an unfolded protein using the values of $a$ and $b$ above. "
   ]
  },
  {
   "cell_type": "markdown",
   "id": "0d3ef737-1f0d-4519-8911-65f335c98958",
   "metadata": {
    "tags": []
   },
   "source": [
    "# Calculating the constant $\\eta$\n",
    "\n",
    "$\\eta$ is a constant that can relate our experimental value of $D_T$ to the molecular weight $M_W$ of a protein to find out whether it is in a folded or an unfolded state:\n",
    "\n",
    "$D_T^{\\mathrm{experiment}}=\\eta D_T^{\\mathrm{folded}} + (1-\\eta) D_T^\\mathrm{unfolded}$\n",
    "\n",
    "This constant $\\eta$ can hold a value between 0 to 1\n",
    "\n",
    "**Task 2:** prove that when $\\eta$ is equal to 1, our expermental value is equal to the folded value, and when $\\eta$ is equal to 0, our experimental value is equal to the unfolded value."
   ]
  },
  {
   "cell_type": "markdown",
   "id": "f6d78096-a80a-4e5f-b145-25618602e147",
   "metadata": {
    "tags": []
   },
   "source": [
    "Additionaly, it is possible to rearrange the above equation in order to find the value of $\\eta$:\n",
    "\n",
    "$\\eta=\\frac{D_T^{\\mathrm{experiment}}-D_T^\\mathrm{unfolded}}{ D_T^{\\mathrm{folded}}-D_T^\\mathrm{unfolded}   }$\n",
    "\n",
    "**Task 3:** prove that this rearrangment is possible\n",
    "\n",
    "Therefore, based on the above equation we can calculate $\\eta$ if we know the experimental measure of $D_T$, and we know the molecular weight of the protein $M_W$\n",
    "\n",
    "$D_T = \\kappa M_W^{-b}$\n",
    "\n",
    "where the constant $\\kappa$ has different values depending on whether the protein is folded or unfolded\n",
    "\n",
    "$\\kappa^{\\mathrm{folded}}$ = $1.798^{-9}$\n",
    "\n",
    "$\\kappa^{\\mathrm{unfolded}}$ = $1.441^{-8}$\n",
    "\n",
    "Using this value of $\\eta$ can then tell us whether our protein is in a folded or unfolded state"
   ]
  },
  {
   "cell_type": "markdown",
   "id": "7a8bbcd9-3713-4235-a032-1258b35d220b",
   "metadata": {
    "jp-MarkdownHeadingCollapsed": true,
    "tags": []
   },
   "source": [
    "# Theory of Protein Diffusion\n",
    "\n",
    "From the Einstein-Stokes equation we can say that $D_T$ increases when: we heat things up (increase $T$), if we reduce the viscosity of the solution (lower $\\nu$) or if we make our object smaller (lower $R_H$).\n",
    "\n",
    "Based on this, would you expect a folded or unfolded protein to diffuse further in a given time?"
   ]
  },
  {
   "cell_type": "markdown",
   "id": "b2de6fcf-a777-475d-b023-9268f1ad64ff",
   "metadata": {
    "tags": []
   },
   "source": [
    "# Challenge 1: Calculate the experimental value of $D_T$ \n",
    "\n",
    "**Method:**\n",
    "\n",
    "From the data we have read in, we will extract the $G$ and the $I$ values from the first and second columns respectively. We will then fit this data to the Stejskal-Tanner equation using a 'least-squares' algorithm to get optimised (best fitting) values of $I_0$ and $D_T$ and their errors.\n",
    "\n",
    "**Useful info:**\n",
    "\n",
    "There are five files with this project, called proteinX.out, where X goes from 1 to 5. The raw data files contain two \"columns\" of information, I (signal) and G (strength of magnetic field). However, this raw data is actually in a text file with each line having a corresponding I and G separated by \"whitespace\" for each datapoint.\n",
    "\n",
    "The molecular weights of these five proteins are, in units of g mol$^{-1}$:\n",
    "\n",
    "1. 22123\n",
    "2. 118250\n",
    "3. 14230  \n",
    "4. 4500000\n",
    "5. 623220"
   ]
  },
  {
   "cell_type": "markdown",
   "id": "3ae9fafd-8b6b-46cb-bf42-277f78d4e5da",
   "metadata": {
    "tags": []
   },
   "source": [
    "**Step 1: Visualise the contents of the raw data file** \n",
    "\n",
    "The showfile() function will print the contents of the file to the screen. This is a good way to check the input data you are using."
   ]
  },
  {
   "cell_type": "code",
   "execution_count": null,
   "id": "25b9a5e6-6915-472a-9211-e328a4d000b9",
   "metadata": {},
   "outputs": [],
   "source": [
    "def showfile(infile): #function to print the contents of a data file to the screen.\n",
    "    print(\"Showing contents file: %s\" % infile)\n",
    "    text_file = open(infile)\n",
    "    file_content = text_file.read()\n",
    "    print(file_content)\n",
    "    text_file.close()\n"
   ]
  },
  {
   "cell_type": "code",
   "execution_count": null,
   "id": "2b532df8-f647-4cd4-ac30-25c871a48f89",
   "metadata": {},
   "outputs": [],
   "source": [
    "# Use the showfile function to see what data is stored in protein1.protein1.FutureWarning\n",
    "print(showfile(\"protein1.out\"))"
   ]
  },
  {
   "cell_type": "markdown",
   "id": "2e1327ac-37a0-4413-995e-fdcafc6df779",
   "metadata": {
    "tags": []
   },
   "source": [
    "**Step 2: Read in the raw data files into python** \n",
    "\n",
    "The Readin() function ultimately creates two lists of data containing the $I$ versus $G$ datapoints for a file. \n",
    "\n",
    "You can use this function to read in the data for each of your proteins of interest."
   ]
  },
  {
   "cell_type": "code",
   "execution_count": null,
   "id": "6a000c82-356a-4161-b2ef-7923c28df82b",
   "metadata": {},
   "outputs": [],
   "source": [
    "def Readin(infile): #function to read in a data file\n",
    "    G=[]  #initialise a list to store G values\n",
    "    I=[]  #initialise a lsit to store I values\n",
    "    inny=open(infile) #open a 'stream' an interface to the file.\n",
    "    for line in inny.readlines():  #loop over all lines in the file\n",
    "        #print(line)      #uncomment this to see what it does\n",
    "        test=line.split()  #this line splits the line into fields separated by 'whitespace'\n",
    "        #print(test)      #uncomment this to see what it does\n",
    "        if(len(test)>0): #make sure that the line has some information in!\n",
    "            G.append(float(test[0])) #add the G value to the list\n",
    "            I.append(float(test[1])) #add the I value to the list\n",
    "    G=numpy.array(G)  #turn into a 'numpy' array\n",
    "    I=numpy.array(I)  #turn into a 'numpy' array\n",
    "    return G,I  "
   ]
  },
  {
   "cell_type": "code",
   "execution_count": null,
   "id": "6bda3289-18ed-4033-878a-5f03e271eca9",
   "metadata": {},
   "outputs": [],
   "source": [
    "# Use the Readin function to obtain an array of I and G values for your protein of interest1\n",
    "protein1_data = Readin(\"protein1.out\")\n",
    "\n",
    "print(protein1_data)"
   ]
  },
  {
   "cell_type": "markdown",
   "id": "c28b5a94-7b12-4f5d-a80d-63dfd7e54f73",
   "metadata": {
    "tags": []
   },
   "source": [
    "**Step 3: Calculate the constant $k$ the Stejskal-Tanner equation**\n",
    "\n",
    "$k=\\gamma^2\\delta^2 G^2 \\left(\\Delta - \\frac{\\delta}{3}\\right)$\n",
    "\n",
    "For each value of $G$ in the array, calculate the corresponding constant $k$ using the CalcK function"
   ]
  },
  {
   "cell_type": "code",
   "execution_count": null,
   "id": "9f050abd-f6bb-416a-b897-fa1cffd0dc05",
   "metadata": {},
   "outputs": [],
   "source": [
    "def CalcK(G,gamma,delta,Delta): #calculate 'k' values from an array of G values using the constants\n",
    "    return (G*delta*gamma)**2.*(Delta-delta/3.)"
   ]
  },
  {
   "cell_type": "code",
   "execution_count": null,
   "id": "1cccac40-0fcc-4751-a376-7ff513c763c0",
   "metadata": {
    "tags": []
   },
   "outputs": [],
   "source": [
    "# use the CalcK function to calculate the corresponding constant k for each G value in our array\n",
    "\n",
    "# create a numpy array of G values for our protein\n",
    "# this corresponds to the first element of protein1_data\n",
    "G_array = protein1_data[0]\n",
    "\n",
    "# as we are using numpy arrays, we input our G_array into the CalcK function to create an array of constant values\n",
    "K_array = CalcK(G_array,gamma,delta,Delta)\n",
    "\n",
    "print(G_array)\n",
    "print(K_array)"
   ]
  },
  {
   "cell_type": "markdown",
   "id": "34abcebc-332b-4171-9205-1a5c9e4b9d20",
   "metadata": {
    "tags": []
   },
   "source": [
    "**Step 4: Create model for the Stejskal-Tanner equation**\n",
    "\n",
    "$I=I_0 \\exp(-k D_T)$\n",
    "\n",
    "The CalcModel function, returns the output of the Stejskal-Tanner equation for when you have known values for $I_0$, $k$, and $D_T$.\n",
    "\n",
    "Therefore, as we do not have known values for $I_0$, and $D_T$, we can not use this function yet. But this will be used when we try to guess the values for $I_0$, and $D_T$"
   ]
  },
  {
   "cell_type": "code",
   "execution_count": null,
   "id": "83513498-4dd3-40a9-b425-1730143102ec",
   "metadata": {},
   "outputs": [],
   "source": [
    "#evaluate the Sketjal-Tanner equation for the specified array of k, and constants I0 and DT.\n",
    "def CalcModel(k,I0,DT):   \n",
    "    return I0*numpy.exp(-k*DT)"
   ]
  },
  {
   "cell_type": "markdown",
   "id": "38d12843-88ec-4d23-9202-55f724fd8730",
   "metadata": {
    "tags": []
   },
   "source": [
    "**Step 5: Find optimised (best fitting) values of $I_0$ and $D_T$ and their errors.**\n",
    "\n",
    "The below functions are used to calculate values of $I_0$ and $D_T$ by a least squares fitting. Please refer to the lecture slides which go into more detail about these functions.\n",
    "\n",
    "As a basic overview, the functions are doing the following:\n",
    "\n",
    "1. Guess an intial value for $I_0$ and $D_T$\n",
    "2. Check how close these estimates are to your real data, when passed through CalcModel\n",
    "3. Based on how close these estimates are, attempt a new guess\n",
    "4. Repeat until optimised values of $I_0$ and $D_T$ are found\n"
   ]
  },
  {
   "cell_type": "code",
   "execution_count": null,
   "id": "radical-bibliography",
   "metadata": {},
   "outputs": [],
   "source": [
    "#functions for doing the least squares fitting.\n",
    "\n",
    "def chifunc(x,b):  #calculate the model for current settings, and return the 'chi' array, ycalc-ydata\n",
    "    \"\"\"Determines how close the current guess is\"\"\"\n",
    "    #print(x,b)\n",
    "    I0=x[0]  #unpack fitting parameter 1\n",
    "    DT=x[1]  #unpack fitting parameter 2\n",
    "    k=b[0]   #unpack argument 1\n",
    "    I=b[1]   #unpack argument 2\n",
    "    guess= CalcModel(k,I0,DT) \n",
    "    guess_difference = guess - I #how far is our guess away from the value of I in the raw data file\n",
    "    return guess_difference      #return ycalc-ydata\n",
    "    \n",
    "def FitModel(I0guess,DTguess,k,I,verbose=False): #function to fit model (DT,I0 pars) to data (k,I)\n",
    "    \"\"\"Use leastsquares to fit the model to the data and find associated error values\"\"\"\n",
    "    \n",
    "    #don't worry if you don't understand these two lines\n",
    "    xinit=I0guess,DTguess\n",
    "    #print(\"xinit \",xinit)\n",
    "    pfit,pcov,infodict,errmsg,success=leastsq(chifunc,xinit,args=[k,I,],full_output=1) # the line that does the magic!\n",
    "\n",
    "    #now we calculate the standard error from the fitting procedure\n",
    "    #the maths of this is quite complicated. The code is also complex as it has been\n",
    "    #generalised to deal with a range of problems that may occur, that\n",
    "    #are not specifically relevant to this project.\n",
    "    if (len(I) > len(xinit)) and pcov is not None:\n",
    "        s_sq = (chifunc(pfit,[k,I,])**2).sum()/(len(I)-len(xinit))\n",
    "        pcov = pcov * s_sq\n",
    "    else:\n",
    "        pcov = numpy.inf\n",
    "\n",
    "    #now we calculate the error.\n",
    "    error = [] \n",
    "    for i in range(len(pfit)):\n",
    "        try:\n",
    "          error.append(numpy.absolute(pcov[i][i])**0.5)\n",
    "        except:\n",
    "          error.append( 0.00 )\n",
    "    perr = numpy.array(error) \n",
    "    \n",
    "    #if the 'verbose' flag is set to true, print this to screen.\n",
    "    if(verbose):\n",
    "        print(\"These are the fitted parameters:\")\n",
    "        print(\"I0=\",pfit[0],\"+/-\",perr[0])\n",
    "        print(\"DT=\",pfit[1],\"+/-\",perr[1])\n",
    "        display(Markdown(rf'  Fitted D:   %.2e $\\pm$ %.2e 'r'cm$^2$s$^{-1}$' % (pfit[0],pfit[1])))    \n",
    "    return pfit[0],pfit[1],perr[0],perr[1]"
   ]
  },
  {
   "cell_type": "markdown",
   "id": "28c3c770-cf9f-4cf7-b2f8-96b665ebbe47",
   "metadata": {
    "tags": []
   },
   "source": [
    "**Make sure you understand the principles behind the above functions!**\n",
    "\n",
    "The above functions are used to calculate values of $I_0$ and $D_T$ by a least squares fitting. In the cell below, I am providing you with a case example of how these functions can be used to find the optimised (fitted) of $I_0$ and $D_T$ for protein1.\n"
   ]
  },
  {
   "cell_type": "code",
   "execution_count": null,
   "id": "46b1f202-57a9-49cf-9d17-ba906871be4a",
   "metadata": {},
   "outputs": [],
   "source": [
    "# Use FitModel to find the optimised values of I0 and DT for protein1\n",
    "\n",
    "# step 1: read in our file\n",
    "file = \"protein1.out\"\n",
    "\n",
    "protein1_data = Readin(file)\n",
    "\n",
    "# step 2: create seperate numpy arrays for I and G values\n",
    "G_array = protein1_data[0]\n",
    "I_array = protein1_data[1]\n",
    "\n",
    "# step 4: convert our G values into their correct form (see second powerpoint - G/Gmax=g)\n",
    "#G_array = G_array * Gmax\n",
    "\n",
    "# step 5: create a numpy array for the constant K \n",
    "K_array =  CalcK(G_array,gamma,delta,Delta)\n",
    "\n",
    "# step 6: define initial guess values - don't worry about where these came from!\n",
    "I0_guess = 2E6\n",
    "DT_guess = 1E-8\n",
    "\n",
    "# step 7: fit the model to our guess values, and return the fitted values and associated errors\n",
    "\n",
    "fitted_model = FitModel(I0_guess, DT_guess, K_array, I_array)\n",
    "\n",
    "#get optimised \"fitted\" values \n",
    "I0_fit = fitted_model[0]\n",
    "DT_fit = fitted_model[1]\n",
    "\n",
    "#get erros for the optimised \"fitted\" values \n",
    "I0_err = fitted_model[2]\n",
    "DT_err = fitted_model[3]\n",
    "\n",
    "#return model outputs\n",
    "print(I0_fit, DT_fit, I0_err, DT_err)\n",
    "\n",
    "#check outputs\n",
    "I_fitted = CalcModel(K_array, I0_fit, DT_fit)\n",
    "\n",
    "print(I_fitted, I_array)"
   ]
  },
  {
   "cell_type": "markdown",
   "id": "315c6aba-c994-427c-b3df-ec4f1c686198",
   "metadata": {
    "tags": []
   },
   "source": [
    "**Step 6: Plot data and return stats summaries**\n",
    "\n",
    "The below functions are used for plotting data and making pretty summaries."
   ]
  },
  {
   "cell_type": "code",
   "execution_count": null,
   "id": "greatest-secret",
   "metadata": {},
   "outputs": [],
   "source": [
    "#DT will be in units of m2 s-1\n",
    "def SimData(DTsim): #give this function a list of different diffusion coefficients \n",
    "    \"\"\"Returns a plot of different DT values on the same graph\"\"\"\n",
    "    fig=plt.figure()                  #setup the plot\n",
    "    ax=fig.add_axes([0,0,1,1])        #setup the plot\n",
    "    G=numpy.linspace(0,1,20)   #calculate an arbitrary range of Gradients from 0 to 100% of maximum (0-1)\n",
    "    I0=1E6                             #arbitrary I0 value           \n",
    "    ax.set_ylim(0,1.05)               #set yrange from 0, to just above the max number (1.0)\n",
    "    ax.set_xlabel(\"G/Gmax\")           #set the Xlabel\n",
    "    ax.set_ylabel(\"I/I0\")             #set the Ylabel\n",
    "\n",
    "    for DT in DTsim:  #loop over all the test DT values in the list sent to function (DTsim)\n",
    "        k=CalcK(G*Gmax,gamma,delta,Delta)  #calc the 'k' values\n",
    "        I=CalcModel(k,I0,DT)               #simulate the model\n",
    "        I0fit,DTfit,I0err,DTerr=FitModel(2E6,1E-12,k,I) #fit the simulated model to get a nice line\n",
    "        Ifit=CalcModel(k,I0fit,DTfit)      #back-calculate the simulated data for plotting\n",
    "\n",
    "        label='%.2e m^2s^{-1}'% DT\n",
    "        ax.scatter(G,I/I0)   #make the plot of data (points)\n",
    "        ax.plot(G,Ifit/I0fit,label=label)   #make the plot of data (lines)\n",
    "    ax.legend(loc='lower left')\n",
    "        \n",
    "def SetFig():\n",
    "    \"\"\"Creates blank plot for data to be added to later\"\"\"\n",
    "    fig=plt.figure()                  #setup the plot\n",
    "    ax=fig.add_axes([0,0,1,1])        #setup the plot\n",
    "    ax.set_ylim(0,1.05)               #set yrange from 0, to just above the max number (1.0)\n",
    "    ax.set_xlabel(\"G/Gmax\")           #set the Xlabel\n",
    "    ax.set_ylabel(\"I/I0\")             #set the Ylabel\n",
    "    return fig,ax    \n",
    "\n",
    "        \n",
    "def FitFile(file,verbose=False,ax=None): #give this function a list of different diffusion coefficients \n",
    "    \"\"\"For a file of data, retrun the fitted model and plot the results\"\"\"\n",
    "    G,I=Readin(file)       #read in text file using our own code\n",
    "    \n",
    "    if(verbose): #if verbose is set to true, then initialise a stand-alone figure\n",
    "         fig,ax=SetFig() #otherwise code assumes SetFig has been called already to get a multi-plot\n",
    "\n",
    "    k=CalcK(G*Gmax,gamma,delta,Delta)  #calc the 'k' values\n",
    "    I0fit,DTfit,I0err,DTerr=FitModel(2E6,1E-8,k,I,verbose=verbose) #fit the simulated model to get a nice line\n",
    "    Ifit=CalcModel(k,I0fit,DTfit)      #back-calculate the simulated data for plotting\n",
    "    I0=1E6\n",
    " \n",
    "    ax.scatter(G,I/I0)   #make the plot of data (points)\n",
    "    ax.plot(G,Ifit/I0fit,label=file)   #make the plot of data (lines)\n",
    "\n",
    "    if(verbose): #show legend if just making a single plot\n",
    "        ax.legend()\n",
    "\n",
    "    return DTfit,DTerr  #return fitted diffusion coefficient\n",
    "       \n",
    "    \n"
   ]
  },
  {
   "cell_type": "markdown",
   "id": "88922b94-d74a-4a0c-afb8-ed07425a780d",
   "metadata": {
    "tags": []
   },
   "source": [
    "# Challenge 2: Calculate the value of $\\eta$ for our protein \n",
    "\n",
    "**Method**\n",
    "\n",
    "Turn the fitted $D_T$ values into $\\eta$ values and find out if the protein is folded or not.\n",
    "\n",
    "**Useful equations**\n",
    "\n",
    "$\\eta=\\frac{D_T^{\\mathrm{experiment}}-D_T^\\mathrm{unfolded}}{ D_T^{\\mathrm{folded}}-D_T^\\mathrm{unfolded}   }$\n",
    "\n",
    "$D_T = \\kappa M_W^{-b}$\n",
    "\n",
    "where the constant $\\kappa$ has different values depending on whether the protein is folded or unfolded\n",
    "\n",
    "$\\kappa^{\\mathrm{folded}}$ = $1.798^{-9}$\n",
    "\n",
    "$\\kappa^{\\mathrm{unfolded}}$ = $1.441^{-8}$\n"
   ]
  },
  {
   "cell_type": "code",
   "execution_count": null,
   "id": "fcc67662-a453-43a2-a664-e91e8740debe",
   "metadata": {},
   "outputs": [],
   "source": [
    "def ExpectedD(Mw,DT,DTerr,verbose=False): #print diffusion coefficients to the screen for folded and unfolded for the given molecular weight.\n",
    "    \"\"\"Given the MW of a protein, calculate the folded and unfolded DT values,\n",
    "    and use these to calculate the constant n amd its associated error\"\"\"\n",
    "    from IPython.display import display, Markdown\n",
    "    \n",
    "    #The two results from Wilkins et al.\n",
    "    #Rh unfolded =2.21*(Mw/110.)** 0.57 #in Angstroms\n",
    "    #Rh folded=4.75*(Mw/110.)** 0.29    #in Angstroms\n",
    "    #D=k T/(6 pi nu R)  #Stokes Einstein equation #units of m^2s-1 for D\n",
    "    #Average molecular weight of an amino acid = 110 g mol-1\n",
    "\n",
    "    kfol=kb* (T0+T)* 110**0.29 /(6* pi* nu* 4.75 *1E-10)  #conversion factors from Einstein-Stokes\n",
    "    kunf=kb* (T0+T)* 110**0.57 /(6* pi* nu* 2.21 *1E-10)   #conversion factors from Einstein-Stokes\n",
    "    Dfol=kfol*(Mw)**(-0.29)  \n",
    "    Dunf=kunf*(Mw)**(-0.57)\n",
    "    #print(kfol,kunf)\n",
    "    fac=(DT-Dunf)/(Dfol-Dunf)  #back calulating the unfolded fraction.\n",
    "    facErr=(DTerr**2.*(1./(Dfol-Dunf))**2.)**0.5 \n",
    "    if(verbose):\n",
    "        display(Markdown(rf'  Expected D (unfolded): %.2e 'r'm$^2$s$^{-1}$' % (Dunf)))\n",
    "        display(Markdown(rf'  Expected D (folded):   %.2e 'r'm$^2$s$^{-1}$' % (Dfol)))    \n",
    "        display(Markdown(rf'  Folded factor $\\eta$:   %.4f $pm %.4f' % (fac,facErr )))  #propagating the error, so fractional error in DT->fraction error in fac  \n",
    "    return fac,facErr\n",
    "        "
   ]
  },
  {
   "cell_type": "markdown",
   "id": "53a83534-e03a-432c-b857-902337a451f7",
   "metadata": {
    "tags": []
   },
   "source": [
    "# Challenge 3: Interpret the results \n",
    "Research two specific proteins on this list and write a short paragraph explaining why it is likley that being folded or unfolded is important for these proteins inside the cell.\n",
    "\n",
    "Protein 3 is called $\\alpha$-Synuclein, a protein that acts as a neurotransmitter in the brain. This protein, when it aggregates with itself in an abberant fashion, is associated with Parkinson's disease. Protein 4 is a ribosome assembly and is extreamly large, for a protein complex. For these two proteins, find out what they are supposed to do, and say how your result that shows whether they are folded or unfolded, might be related to their function."
   ]
  },
  {
   "cell_type": "markdown",
   "id": "bb130602-5862-4f45-a008-4c79d7a082d7",
   "metadata": {
    "tags": []
   },
   "source": [
    "# Extended Computational Tasks"
   ]
  },
  {
   "cell_type": "code",
   "execution_count": null,
   "id": "southwest-wonder",
   "metadata": {},
   "outputs": [],
   "source": [
    "#COMPUTATIONAL TASK 1: put in different values of the diffusion coefficient and simulate the diffusion curves.\n",
    "#How does the data vary when you put in different diffusion coefficients?\n",
    "SimData((1E-12,1E-11,1E-10,1E-9))\n",
    "\n",
    "#are there upper and lower limits to the diffusion coefficients that can be measared using this method?\n",
    "#how could the constants delta and Delta be adjusted to help with this?\n",
    "#if you vary delta and Delta to change these plots (you should!), make sure you set the values back to \n",
    "#where they started before you move on.\n"
   ]
  },
  {
   "cell_type": "code",
   "execution_count": 33,
   "id": "delayed-given",
   "metadata": {},
   "outputs": [
    {
     "name": "stdout",
     "output_type": "stream",
     "text": [
      "These are the fitted parameters:\n",
      "I0= 1002337.3009981833 +/- 3059.1788964155276\n",
      "DT= 6.25574659564405e-11 +/- 5.369475146606367e-13\n"
     ]
    },
    {
     "data": {
      "text/markdown": [
       "  Fitted D:   1.00e+06 $\\pm$ 6.26e-11 cm$^2$s$^{-1}$"
      ],
      "text/plain": [
       "<IPython.core.display.Markdown object>"
      ]
     },
     "metadata": {},
     "output_type": "display_data"
    },
    {
     "data": {
      "text/markdown": [
       "  Expected D (unfolded): 6.18e-11 m$^2$s$^{-1}$"
      ],
      "text/plain": [
       "<IPython.core.display.Markdown object>"
      ]
     },
     "metadata": {},
     "output_type": "display_data"
    },
    {
     "data": {
      "text/markdown": [
       "  Expected D (folded):   1.12e-10 m$^2$s$^{-1}$"
      ],
      "text/plain": [
       "<IPython.core.display.Markdown object>"
      ]
     },
     "metadata": {},
     "output_type": "display_data"
    },
    {
     "data": {
      "text/markdown": [
       "  Folded factor $\\eta$:   0.0143 $pm 0.0106"
      ],
      "text/plain": [
       "<IPython.core.display.Markdown object>"
      ]
     },
     "metadata": {},
     "output_type": "display_data"
    },
    {
     "name": "stdout",
     "output_type": "stream",
     "text": [
      "6.25574659564405e-11\n",
      "1.8364951147902226e-05\n"
     ]
    },
    {
     "data": {
      "image/png": "[encoded data removed]",
      "text/plain": [
       "<Figure size 432x288 with 1 Axes>"
      ]
     },
     "metadata": {
      "needs_background": "light"
     },
     "output_type": "display_data"
    }
   ],
   "source": [
    "#COMPUTATIONAL TASK 2: take the files for the different proteins one at a time.\n",
    "#show the file on the screen to look at the raw data. Do this using showfile\n",
    "\n",
    "#Molecular weights of the proteins under study\n",
    "MwList=[]\n",
    "MwList.append(22123)\n",
    "MwList.append(118250)\n",
    "MwList.append(14230)\n",
    "MwList.append(4.5*1E6)\n",
    "MwList.append(623000)\n",
    "\n",
    "#proFiles\n",
    "proFiles=[] #make list of protein file names\n",
    "for i in range(len(MwList)):\n",
    "    proFiles.append('protein'+str(i+1)+'.out')\n",
    "\n",
    "#choose which number: ii goes from 0 to 4.\n",
    "ii=2\n",
    "\n",
    "#What is the diffusion coefficient of each protein and standard error?\n",
    "DT,DTerr=FitFile(proFiles[ii],verbose=True)  #read in data from the data file, and spit out the diffusion coefficient\n",
    "\n",
    "#Calculate the expected diffusion coefficients for a protein of this molecular weight, folded and unfolded. Calculate eta.\n",
    "fac,facErr=ExpectedD(MwList[ii],DT,DTerr,verbose=True)  #print expected diffusion coefficients for folded, and unfolded proteins."
   ]
  },
  {
   "cell_type": "code",
   "execution_count": 34,
   "id": "convertible-slovak",
   "metadata": {},
   "outputs": [
    {
     "data": {
      "text/markdown": [
       " Protein 1 Mw: 22123 g mol$^{-1}$ $\\eta:$ 0.0601 $\\pm$ 0.0101 "
      ],
      "text/plain": [
       "<IPython.core.display.Markdown object>"
      ]
     },
     "metadata": {},
     "output_type": "display_data"
    },
    {
     "data": {
      "text/markdown": [
       " Protein 2 Mw: 118250 g mol$^{-1}$ $\\eta:$ 0.9465 $\\pm$ 0.0129 "
      ],
      "text/plain": [
       "<IPython.core.display.Markdown object>"
      ]
     },
     "metadata": {},
     "output_type": "display_data"
    },
    {
     "data": {
      "text/markdown": [
       " Protein 3 Mw: 14230 g mol$^{-1}$ $\\eta:$ 0.0143 $\\pm$ 0.0106 "
      ],
      "text/plain": [
       "<IPython.core.display.Markdown object>"
      ]
     },
     "metadata": {},
     "output_type": "display_data"
    },
    {
     "data": {
      "text/markdown": [
       " Protein 4 Mw: 4500000 g mol$^{-1}$ $\\eta:$ 1.0013 $\\pm$ 0.0276 "
      ],
      "text/plain": [
       "<IPython.core.display.Markdown object>"
      ]
     },
     "metadata": {},
     "output_type": "display_data"
    },
    {
     "data": {
      "text/markdown": [
       " Protein 5 Mw: 623000 g mol$^{-1}$ $\\eta:$ 0.7721 $\\pm$ 0.0162 "
      ],
      "text/plain": [
       "<IPython.core.display.Markdown object>"
      ]
     },
     "metadata": {},
     "output_type": "display_data"
    },
    {
     "data": {
      "image/png": "[encoded data removed]",
      "text/plain": [
       "<Figure size 432x288 with 1 Axes>"
      ]
     },
     "metadata": {
      "needs_background": "light"
     },
     "output_type": "display_data"
    }
   ],
   "source": [
    "#COMPUTATIONAL TASK 3: take the files for the different proteins at once.\n",
    "#this is a huge cheat that gives you the answers. Very important you understand how\n",
    "#this all works using the previous steps otherwise this exercise is pointless.\n",
    "\n",
    "#Molecular weights of the proteins under study\n",
    "MwList=[]\n",
    "MwList.append(22123)\n",
    "MwList.append(118250)\n",
    "MwList.append(14230)\n",
    "MwList.append(4.5*1E6)\n",
    "MwList.append(623000)\n",
    "\n",
    "#proFiles\n",
    "proFiles=[] #make list of protein file names\n",
    "for i in range(len(MwList)):\n",
    "    proFiles.append('protein'+str(i+1)+'.out')\n",
    "\n",
    "FacFit=[]\n",
    "fig,ax=SetFig()\n",
    "for i in range(len(MwList)):\n",
    "    #Fit the data using FitFile.\n",
    "    DT,DTerr=FitFile(proFiles[i],verbose=False,ax=ax)  #read in data from the data file, and spit out the diffusion coefficient\n",
    "    #What is the diffusion coefficient of this protein?\n",
    "    #Calculate the expected diffusion coefficients for a protein of this molecular weight.\n",
    "    fac,facErr=ExpectedD(MwList[i],DT,DTerr,verbose=False)  #print expected diffusion coefficients for folded, and unfolded proteins.\n",
    "    FacFit.append((fac,facErr))\n",
    "ax.legend(loc='lower left')    \n",
    "\n",
    "for i in range(len(FacFit)):\n",
    "    display(Markdown(rf' Protein %i Mw: %.0f g mol'r'$^{-1}$'rf' $\\eta:$ %.4f $\\pm$ %.4f ' % (i+1,MwList[i],FacFit[i][0],FacFit[i][1])))\n",
    "                     \n",
    "    "
   ]
  }
 ],
 "metadata": {
  "interpreter": {
   "hash": "916dbcbb3f70747c44a77c7bcd40155683ae19c65e1c03b4aa3499c5328201f1"
  },
  "kernelspec": {
   "display_name": "default:Python",
   "language": "python",
   "name": "python3"
  },
  "language_info": {
   "codemirror_mode": {
    "name": "ipython",
    "version": 3
   },
   "file_extension": ".py",
   "mimetype": "text/x-python",
   "name": "python",
   "nbconvert_exporter": "python",
   "pygments_lexer": "ipython3",
   "version": "3.8.8"
  }
 },
 "nbformat": 4,
 "nbformat_minor": 5
}
